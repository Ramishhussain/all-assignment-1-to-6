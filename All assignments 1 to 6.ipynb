{
 "cells": [
  {
   "cell_type": "markdown",
   "metadata": {},
   "source": [
    "# Assignment 1"
   ]
  },
  {
   "cell_type": "code",
   "execution_count": 2,
   "metadata": {
    "collapsed": false
   },
   "outputs": [
    {
     "name": "stdout",
     "output_type": "stream",
     "text": [
      "Twinkle, twinkle, little star,\n",
      "      How I wonder what you are!\n",
      "            Up above the world so high,\n",
      "            Like a diamond in the sky.\n",
      "Twinkle, twinkle, little star,\n",
      "      How I wonder what you are\n"
     ]
    }
   ],
   "source": [
    "#Write a Python program to print the following string in a specific format (see the output).\n",
    "print(\"Twinkle, twinkle, little star,\")\n",
    "print(\"      How I wonder what you are!\")\n",
    "print(\"            Up above the world so high,\")\n",
    "print(\"            Like a diamond in the sky.\")\n",
    "print(\"Twinkle, twinkle, little star,\")\n",
    "print(\"      How I wonder what you are\")"
   ]
  },
  {
   "cell_type": "code",
   "execution_count": 3,
   "metadata": {
    "collapsed": false
   },
   "outputs": [
    {
     "data": {
      "text/plain": [
       "'3.5.2 |Anaconda 4.1.1 (64-bit)| (default, Jul  5 2016, 11:41:13) [MSC v.1900 64 bit (AMD64)]'"
      ]
     },
     "execution_count": 3,
     "metadata": {},
     "output_type": "execute_result"
    }
   ],
   "source": [
    "#2. Write a Python program to get the Python version you are using\n",
    "import sys\n",
    "sys.version"
   ]
  },
  {
   "cell_type": "code",
   "execution_count": 4,
   "metadata": {
    "collapsed": false
   },
   "outputs": [
    {
     "name": "stdout",
     "output_type": "stream",
     "text": [
      "2019-12-21 16:45:04.543072\n"
     ]
    }
   ],
   "source": [
    "# Write a Python program to display the current date and time.\n",
    "import datetime\n",
    "time = datetime.datetime.now()\n",
    "print(time)"
   ]
  },
  {
   "cell_type": "code",
   "execution_count": 5,
   "metadata": {
    "collapsed": false
   },
   "outputs": [
    {
     "name": "stdout",
     "output_type": "stream",
     "text": [
      "Enter radius = 3\n",
      "Area is 28.278\n"
     ]
    }
   ],
   "source": [
    "# Write a Python program which accepts the radius of a circle from the user and compute the area.\n",
    "radius = float(input(\"Enter radius = \"))\n",
    "PI = 3.142\n",
    "area = (PI) * (radius**2)\n",
    "print(\"Area is \" + str(area))"
   ]
  },
  {
   "cell_type": "code",
   "execution_count": 6,
   "metadata": {
    "collapsed": false
   },
   "outputs": [
    {
     "name": "stdout",
     "output_type": "stream",
     "text": [
      "Enter your first nameramish\n",
      "Enter your last namehussain\n",
      "ramish hussain\n"
     ]
    }
   ],
   "source": [
    "# 5. Write a Python program which accepts the user's first and last name and print them in reverse order with a space between them.\n",
    "first_name = input(\"Enter your first name\")\n",
    "last_name = input(\"Enter your last name\")\n",
    "full_name = first_name +\" \" + last_name\n",
    "print(full_name)"
   ]
  },
  {
   "cell_type": "code",
   "execution_count": 7,
   "metadata": {
    "collapsed": false
   },
   "outputs": [
    {
     "name": "stdout",
     "output_type": "stream",
     "text": [
      "Enter your first number5\n",
      "Enter second first number7\n",
      "12\n"
     ]
    }
   ],
   "source": [
    "# Write a python program which takes two inputs from user and print them addition\n",
    "first_num = int(input(\"Enter your first number\"))\n",
    "sec_num = int(input(\"Enter second first number\"))\n",
    "result = first_num + sec_num\n",
    "print(result)"
   ]
  },
  {
   "cell_type": "markdown",
   "metadata": {},
   "source": [
    "# Assignment 2"
   ]
  },
  {
   "cell_type": "code",
   "execution_count": 8,
   "metadata": {
    "collapsed": false
   },
   "outputs": [
    {
     "name": "stdout",
     "output_type": "stream",
     "text": [
      "Please, Enter marks of urdu= 45\n",
      "Please, Enter marks of English= 58\n",
      "Please, Enter marks of Maths= 65\n",
      "Please, Enter marks of PST= 85\n",
      "Please, Enter marks of islamiat= 45\n",
      "You have got 45marks in urdu with grade of ''C''\n",
      "You have got 58marks in English with grade of ''C''\n",
      "You have got 65marks in Maths with grade of ''B''\n",
      "You have got 85marks in PST with grade of ''A''\n",
      "You have got 45marks in islamiat with grade of ''C''\n",
      "You have achieve 298 marks out of 500 with percentage of 59.599999999999994\n"
     ]
    }
   ],
   "source": [
    "# Question 1\n",
    "subjects = [\"urdu\", \"English\", \"Maths\", \"PST\", \"islamiat\"]\n",
    "marks = []\n",
    "grade = []\n",
    "total_marks = 0\n",
    "percentage = 0\n",
    "\n",
    "for subject in subjects:\n",
    "    mark = int(input(\"Please, Enter marks of \"+subject+\"= \"))\n",
    "    marks.append(mark)\n",
    "    total_marks += mark\n",
    "    \n",
    "percentage = ((total_marks/500)*100)\n",
    "\n",
    "for mark in marks:\n",
    "    if 85 <= mark <= 100:\n",
    "        grade.append(\"A\")\n",
    "    if 65 <= mark <= 84:\n",
    "        grade.append(\"B\")\n",
    "    if 45 <= mark <= 64:\n",
    "        grade.append(\"C\")\n",
    "    if mark < 45:\n",
    "        grade.append(\"F\")\n",
    "        \n",
    "for Course_num in range(len(subjects)):\n",
    "    print(\"You have got \"+ str(marks[Course_num]) + \"marks in \" + str(subjects[Course_num])+ \" with grade of \" +\"''\"+str(grade[Course_num])+\"''\")\n",
    "    \n",
    "print(\"You have achieve \"+str(total_marks)+\" marks out of 500 with percentage of \" + str(percentage))"
   ]
  },
  {
   "cell_type": "code",
   "execution_count": 9,
   "metadata": {
    "collapsed": false
   },
   "outputs": [
    {
     "name": "stdout",
     "output_type": "stream",
     "text": [
      "please give the number to identify = 5\n",
      "Given number is odd\n"
     ]
    }
   ],
   "source": [
    "#Question 2\n",
    "number_to_identify = int(input(\"please give the number to identify = \"))\n",
    "if number_to_identify % 2 ==0:\n",
    "    print(\"Your number is Even\")\n",
    "else:\n",
    "    print(\"Given number is odd\")"
   ]
  },
  {
   "cell_type": "code",
   "execution_count": 10,
   "metadata": {
    "collapsed": false
   },
   "outputs": [
    {
     "name": "stdout",
     "output_type": "stream",
     "text": [
      "4\n"
     ]
    }
   ],
   "source": [
    "#Question 3\n",
    "Name = [\"Ramish hussain\", \"Ali mughal\",\"Saad hamid\", \"Mosh Hamedani\"]\n",
    "print(len(Name))"
   ]
  },
  {
   "cell_type": "code",
   "execution_count": 11,
   "metadata": {
    "collapsed": false
   },
   "outputs": [
    {
     "name": "stdout",
     "output_type": "stream",
     "text": [
      "Total of list is = 175.6\n"
     ]
    }
   ],
   "source": [
    "#Question 4\n",
    "numbers = [100,5,6,23,9.0,23.6,9]\n",
    "total = 0\n",
    "for number in numbers:\n",
    "    total += number\n",
    "print(\"Total of list is = \" + str(total))"
   ]
  },
  {
   "cell_type": "code",
   "execution_count": 12,
   "metadata": {
    "collapsed": false
   },
   "outputs": [
    {
     "name": "stdout",
     "output_type": "stream",
     "text": [
      "6000000000\n"
     ]
    }
   ],
   "source": [
    "#Question 5\n",
    "numbers = [50000,100,5,6,23,9.0,6000000000,23.6,9,1000]\n",
    "largest_number = 0\n",
    "for number in numbers:\n",
    "    if number > largest_number:\n",
    "        largest_number = number\n",
    "print(largest_number)"
   ]
  },
  {
   "cell_type": "code",
   "execution_count": 13,
   "metadata": {
    "collapsed": false
   },
   "outputs": [
    {
     "name": "stdout",
     "output_type": "stream",
     "text": [
      "1\n",
      "1\n",
      "2\n",
      "3\n"
     ]
    }
   ],
   "source": [
    "#Question 6\n",
    "a = [1, 1, 2, 3, 5, 8, 13, 21, 34, 55, 89]\n",
    "for number in a:\n",
    "    if number < 5:\n",
    "        print(number)"
   ]
  },
  {
   "cell_type": "markdown",
   "metadata": {},
   "source": [
    "# Assignment 3"
   ]
  },
  {
   "cell_type": "code",
   "execution_count": null,
   "metadata": {
    "collapsed": true
   },
   "outputs": [],
   "source": [
    "# 1. Make a calculator using Python with addition , subtraction , multiplication , division and power.\n",
    "operands = {\n",
    "    '+' : operator.add,\n",
    "    '-' : operator.sub,\n",
    "    'x' : operator.mul,\n",
    "    '/' : operator.truediv,\n",
    "    '*' : operator.pow\n",
    "}\n",
    "input1 = int(input(\"please enter 1st number = \"))\n",
    "input2 = int(input(\"please enter 2nd number = \"))\n",
    "print(f\"The number you entered are {input1} and {input2}\")\n",
    "selected_operand = input(f\"\"\"\n",
    "select Your the operation\n",
    "press:\n",
    "'+' for addition\n",
    "'-' for  subtraction\n",
    "'x' for multiplication\n",
    "'/' for division\n",
    "'*' for power\n",
    "\"\"\")\n",
    "\n",
    "operand = operands[selected_operand]\n",
    "result = operand(input1,input2)\n",
    "print(result)"
   ]
  },
  {
   "cell_type": "code",
   "execution_count": 15,
   "metadata": {
    "collapsed": false
   },
   "outputs": [
    {
     "name": "stdout",
     "output_type": "stream",
     "text": [
      "yes, there is an item having numerical value 23\n",
      "yes, there is an item having numerical value 69\n",
      "yes, there is an item having numerical value 78\n"
     ]
    }
   ],
   "source": [
    "# 2. Write a program to check if there is any numeric value in list using for loop\n",
    "_list = ['a', 's', 23, 'd', 69, 'p',78,'09']\n",
    "for items in _list:\n",
    "    if isinstance(items, int):\n",
    "        print(\"yes, there is an item having numerical value\", items)"
   ]
  },
  {
   "cell_type": "code",
   "execution_count": 16,
   "metadata": {
    "collapsed": false
   },
   "outputs": [
    {
     "name": "stdout",
     "output_type": "stream",
     "text": [
      "Enter the key45\n",
      "Enter the value85\n"
     ]
    },
    {
     "data": {
      "text/plain": [
       "{'45': '85', 'Name': 'Abdullah', 'course': 'Python'}"
      ]
     },
     "execution_count": 16,
     "metadata": {},
     "output_type": "execute_result"
    }
   ],
   "source": [
    "# 3. Write a Python script to add a key to a dictionary\n",
    "Student ={\n",
    "    \"Name\":\"Abdullah\",\n",
    "    \"course\":\"Python\"\n",
    "}\n",
    "key = input(\"Enter the key\")\n",
    "value = input(\"Enter the value\")\n",
    "\n",
    "Student[key] = value\n",
    "Student"
   ]
  },
  {
   "cell_type": "code",
   "execution_count": 17,
   "metadata": {
    "collapsed": false
   },
   "outputs": [
    {
     "name": "stdout",
     "output_type": "stream",
     "text": [
      "The total of your grossery is =  1000\n"
     ]
    }
   ],
   "source": [
    "# Write a Python program to sum all the numeric items in a dictionary\n",
    "grossery = {\n",
    "    \"chinese_salt\":\"free\",\n",
    "    \"oil\":300,\n",
    "    \"sugar\":200,\n",
    "    \"rice\":500\n",
    "}\n",
    "total = 0\n",
    "for rates in grossery.values():\n",
    "    if isinstance(rates,int):\n",
    "        total += rates\n",
    "\n",
    "print(\"The total of your grossery is = \",total)"
   ]
  },
  {
   "cell_type": "code",
   "execution_count": 18,
   "metadata": {
    "collapsed": false
   },
   "outputs": [
    {
     "name": "stdout",
     "output_type": "stream",
     "text": [
      "fr has duplicate\n",
      "1 has duplicate\n",
      "5 has duplicate\n",
      "7 has duplicate\n",
      "4 has duplicate\n",
      "s has duplicate\n"
     ]
    }
   ],
   "source": [
    "# 5. Write a program to identify duplicate values from list\n",
    "dup_lis = ['fr',1,1,3,5,5,7,7,'4','s','s','fr','4']\n",
    "for items in dup_lis:\n",
    "    checked_lumber = items\n",
    "    new_lis = []\n",
    "    dup_lis.remove(checked_lumber)\n",
    "    new_lis = dup_lis\n",
    "#     print(new_lis)\n",
    "    for lumbers in new_lis:\n",
    "        if str(checked_lumber) == str(lumbers):\n",
    "           print(checked_lumber,\"has duplicate\")\n",
    "           break"
   ]
  },
  {
   "cell_type": "code",
   "execution_count": 19,
   "metadata": {
    "collapsed": false
   },
   "outputs": [
    {
     "name": "stdout",
     "output_type": "stream",
     "text": [
      "Enter a key to check if it is available or not = oil\n",
      "Entered Key already exist\n",
      "\n"
     ]
    }
   ],
   "source": [
    "# Write a Python script to check if a given key already exists in a dictionary\n",
    "grossery = {\n",
    "    \"chinese_salt\":\"free\",\n",
    "    \"oil\":300,\n",
    "    \"sugar\":200,\n",
    "    \"rice\":500\n",
    "}\n",
    "\n",
    "key_to_check = input(\"Enter a key to check if it is available or not = \")\n",
    "\n",
    "for rates in grossery.keys():\n",
    "    for iterations in range(len(grossery)):\n",
    "        if key_to_check == rates:\n",
    "            print(\"Entered Key already exist\")\n",
    "            break\n",
    "if key_to_check in grossery.keys():\n",
    "    print(\"\")\n",
    "else:\n",
    "    print(\"not exist\")"
   ]
  },
  {
   "cell_type": "markdown",
   "metadata": {},
   "source": [
    "# Assignment 4"
   ]
  },
  {
   "cell_type": "code",
   "execution_count": 20,
   "metadata": {
    "collapsed": false
   },
   "outputs": [
    {
     "name": "stdout",
     "output_type": "stream",
     "text": [
      "{'first name': 'Altaf', 'city': 'karachi', 'age': '18', 'last name': 'Rafiq'}\n",
      "{'first name': 'Altaf', 'city': 'karachi', 'age': '18', 'qualification': 'Intermediate', 'last name': 'Rafiq'}\n",
      "{'first name': 'Altaf', 'city': 'karachi', 'age': '18', 'qualification': 'BE', 'last name': 'Rafiq'}\n",
      "{'first name': 'Altaf', 'city': 'karachi', 'age': '18', 'last name': 'Rafiq'}\n"
     ]
    }
   ],
   "source": [
    "# Question1:\n",
    "# Use a dictionary to store information about a person you know. Store their first name,  , age, \n",
    "# and the city in which they live. You should have keys such as first_name, last_name, age, and city. Print\n",
    "# each piece of information stored in your dictionary. Add a new key value pair about qualification then update \n",
    "# the qualification value to high academic level then delete it.\n",
    "Brother={\n",
    "    \"first name\": \"Altaf\",\n",
    "    \"last name\" : \"Rafiq\",\n",
    "    \"age\"       : \"18\",\n",
    "    \"city\"      : \"karachi\"\n",
    "    }\n",
    "print(Brother)\n",
    "Brother[\"qualification\"] = \"Intermediate\"\n",
    "print(Brother)\n",
    "Brother[\"qualification\"] = \"BE\"\n",
    "print(Brother)\n",
    "del Brother[\"qualification\"]\n",
    "print(Brother)\n"
   ]
  },
  {
   "cell_type": "code",
   "execution_count": 21,
   "metadata": {
    "collapsed": false
   },
   "outputs": [
    {
     "name": "stdout",
     "output_type": "stream",
     "text": [
      "{'fact': 'Kachra', 'population': '200 M', 'country': 'Pakistan'}\n",
      "{'fact': 'capital', 'population': '150 M', 'country': 'India'}\n",
      "{'fact': 'capital', 'population': '110 M', 'country': 'Bangladesh'}\n"
     ]
    }
   ],
   "source": [
    "# Question2:\n",
    "# Make a dictionary called cities. Use the names of three cities as keys in your dictionary. \n",
    "# Create a dictionary of information about each city and include the country that the city is in, \n",
    "# its approximate population, and one fact about that city. The keys for each city’s dictionary should be something like country,\n",
    "# population, and fact. Print the name of each city and all of the information you have stored about it.\n",
    "\n",
    "cities = {\n",
    "    \"Karachi\": {\n",
    "    \"country\": 'Pakistan', \n",
    "    \"population\": '200 M',\n",
    "    \"fact\": 'Kachra'\n",
    "    },\n",
    "    \"Dehli\": {\n",
    "        \"country\": 'India', \n",
    "        \"population\": '150 M',\n",
    "        \"fact\": 'capital'\n",
    "    },\n",
    "    \"Dhaka\": {\n",
    "        \"country\": 'Bangladesh', \n",
    "        \"population\": '110 M',\n",
    "        \"fact\": 'capital'\n",
    "    }\n",
    "}\n",
    "print(cities[\"Karachi\"])\n",
    "print(cities[\"Dehli\"])\n",
    "print(cities[\"Dhaka\"])"
   ]
  },
  {
   "cell_type": "code",
   "execution_count": 22,
   "metadata": {
    "collapsed": false
   },
   "outputs": [
    {
     "name": "stdout",
     "output_type": "stream",
     "text": [
      "Please Enter Your Age = 15\n",
      "the ticket is of $15\n",
      "Please Enter Your Age = 45\n",
      "the ticket is of $15\n",
      "Please Enter Your Age = 1\n",
      "the ticket is free = \n",
      "Please Enter Your Age = 45\n",
      "the ticket is of $15\n",
      "Please Enter Your Age = 98\n",
      "the ticket is of $15\n",
      "Please Enter Your Age = 85\n",
      "the ticket is of $15\n",
      "Please Enter Your Age = 55\n",
      "the ticket is of $15\n",
      "Please Enter Your Age = \n"
     ]
    },
    {
     "ename": "ValueError",
     "evalue": "invalid literal for int() with base 10: ''",
     "output_type": "error",
     "traceback": [
      "\u001b[1;31m---------------------------------------------------------------------------\u001b[0m",
      "\u001b[1;31mValueError\u001b[0m                                Traceback (most recent call last)",
      "\u001b[1;32m<ipython-input-22-14e8e14662db>\u001b[0m in \u001b[0;36m<module>\u001b[1;34m()\u001b[0m\n\u001b[0;32m      5\u001b[0m \u001b[1;33m\u001b[0m\u001b[0m\n\u001b[0;32m      6\u001b[0m \u001b[1;32mwhile\u001b[0m\u001b[1;33m(\u001b[0m\u001b[1;32mTrue\u001b[0m\u001b[1;33m)\u001b[0m\u001b[1;33m:\u001b[0m\u001b[1;33m\u001b[0m\u001b[0m\n\u001b[1;32m----> 7\u001b[1;33m     \u001b[0mAge\u001b[0m \u001b[1;33m=\u001b[0m \u001b[0mint\u001b[0m\u001b[1;33m(\u001b[0m\u001b[0minput\u001b[0m\u001b[1;33m(\u001b[0m\u001b[1;34m\"Please Enter Your Age = \"\u001b[0m\u001b[1;33m)\u001b[0m\u001b[1;33m)\u001b[0m\u001b[1;33m\u001b[0m\u001b[0m\n\u001b[0m\u001b[0;32m      8\u001b[0m     \u001b[1;32mif\u001b[0m \u001b[0mAge\u001b[0m \u001b[1;33m<=\u001b[0m \u001b[1;36m3\u001b[0m\u001b[1;33m:\u001b[0m\u001b[1;33m\u001b[0m\u001b[0m\n\u001b[0;32m      9\u001b[0m         \u001b[0mprint\u001b[0m\u001b[1;33m(\u001b[0m\u001b[1;34m\"the ticket is free = \"\u001b[0m\u001b[1;33m)\u001b[0m\u001b[1;33m\u001b[0m\u001b[0m\n",
      "\u001b[1;31mValueError\u001b[0m: invalid literal for int() with base 10: ''"
     ]
    }
   ],
   "source": [
    "# Question3:\n",
    "# A movie theater charges different ticket prices depending on a person’s age. If a person is under the age of 3, \n",
    "# the ticket is free; if they are between 3 and 12, the ticket is $10; and if they are over age 12, the ticket is $15. \n",
    "# Write a loop in which you ask users their age, and then tell them the cost of their movie ticket.\n",
    "\n",
    "while(True):\n",
    "    Age = int(input(\"Please Enter Your Age = \"))\n",
    "    if Age <= 3:\n",
    "        print(\"the ticket is free = \")\n",
    "    elif   3 < Age <= 12:\n",
    "        print(\"ticket is of $10\")\n",
    "    else:\n",
    "        print(\"the ticket is of $15\")"
   ]
  },
  {
   "cell_type": "code",
   "execution_count": null,
   "metadata": {
    "collapsed": true
   },
   "outputs": [],
   "source": [
    "# Question4:\n",
    "# Write a function called favorite_book() that accepts one parameter, title. The function should print a message, \n",
    "# such as One of my favorite books is Alice in Wonderland. Call the function, making sure to include a book title \n",
    "# as an argument in the function call.\n",
    "\n",
    "def favorite_book(title):\n",
    "    print(f'One of my favorite books is {title} in wonderland')\n",
    "    \n",
    "favorite_book(\"Alice\")"
   ]
  },
  {
   "cell_type": "code",
   "execution_count": 24,
   "metadata": {
    "collapsed": false
   },
   "outputs": [
    {
     "name": "stdout",
     "output_type": "stream",
     "text": [
      "Guess the number between 1 to 30 = 4\n",
      "You have entered small number\n",
      "Guess the number between 1 to 30 = 99\n",
      "You have entered greater number\n",
      "Guess the number between 1 to 30 = 15\n",
      "You have entered greater number\n",
      "You Loss!\n"
     ]
    }
   ],
   "source": [
    "# Question5:\n",
    "# Guess the number game\n",
    "# Write a program which randomly generate a number between 1 to 30 and ask the user in input field to guess the correct number. \n",
    "# Give three chances to user guess the number and also give hint to user if hidden number is greater or smaller than the number \n",
    "# he given to input field.\n",
    "from random import randint\n",
    "\n",
    "guess_number = randint(1, 30)\n",
    "chance_number = 0\n",
    "while(True):\n",
    "    if chance_number < 3:\n",
    "#         print(guess_number)\n",
    "        User_guess = int(input(\"Guess the number between 1 to 30 = \"))\n",
    "        if User_guess == guess_number:\n",
    "            print(\"You won!\")\n",
    "            break\n",
    "        elif User_guess < guess_number:\n",
    "            print(\"You have entered small number\")\n",
    "        else:\n",
    "            print(\"You have entered greater number\")\n",
    "        chance_number += 1\n",
    "    else:\n",
    "        print(\"You Loss!\")\n",
    "#         print(chance_number)\n",
    "        chance_number = 0\n",
    "        guess_number = randint(1, 30)\n",
    "        break"
   ]
  },
  {
   "cell_type": "markdown",
   "metadata": {},
   "source": [
    "# Assignment 5"
   ]
  },
  {
   "cell_type": "code",
   "execution_count": null,
   "metadata": {
    "collapsed": true
   },
   "outputs": [],
   "source": [
    "# Question:1 Write a Python function to calculate the factorial of a number (a non-negative integer). \n",
    "# The function accepts the number as an argument.\n",
    "\n",
    "def Factorial(User_input):\n",
    "    result = 1\n",
    "    if User_input > 0:\n",
    "        for numbers in range(User_input,1,-1):\n",
    "            result *= numbers\n",
    "    else:\n",
    "        print(f\"\"\"please enter non negative Number like '2','10'\"\"\")\n",
    "    return result\n",
    "\n",
    "User_input=int(input(\"Enter Your Number = \"))\n",
    "result = Factorial(User_input)\n",
    "print(f\"\"\"Factorial of {User_input}! = {result}\n",
    "        \"\"\")"
   ]
  },
  {
   "cell_type": "code",
   "execution_count": null,
   "metadata": {
    "collapsed": true
   },
   "outputs": [],
   "source": [
    "# Question:3 Write a Python function to print the even numbers from a given list.\n",
    "Numbers = [1, 2, 3, 4, 5, 6, 7, 8, 9, 3, 5, 7, 10 ,22, 200, 1000, 1600]\n",
    "def Even_number_Finder(list_of_numbers):\n",
    "    even_number = []\n",
    "    for number in list_of_numbers:\n",
    "        if (number%2) == 0:\n",
    "            even_number.append(number)\n",
    "    return even_number\n",
    "\n",
    "\n",
    "even_number = Even_number_Finder(Numbers)\n",
    "print(f\"\"\" Enven number in the list = {even_number} \"\"\")"
   ]
  },
  {
   "cell_type": "code",
   "execution_count": null,
   "metadata": {
    "collapsed": true
   },
   "outputs": [],
   "source": [
    "# Question:2 Write a Python function that accepts a string and calculate the number of upper case letters and lower case letters\n",
    "def Upper_Lower_case_calculator(string):\n",
    "    print(string)\n",
    "    upper_letter = 0\n",
    "    lower_letter = 0\n",
    "    for word in string:\n",
    "        for char in word:\n",
    "            if char.isupper():\n",
    "                upper_letter += 1 \n",
    "            else:\n",
    "                lower_letter += 1\n",
    "    return upper_letter,lower_letter\n",
    "\n",
    "\n",
    "User_input = input(\"Enter Your String  = \")\n",
    "string = User_input.split()\n",
    "result = Upper_Lower_case_calculator(string)\n",
    "upper_letter,lower_letter = result\n",
    "\n",
    "\n",
    "print(f\"\"\" Total Capital letter found in your string is = {upper_letter}\"\"\")\n",
    "print(f\"\"\" Total small letter found in your string is = {lower_letter}\"\"\")\n"
   ]
  },
  {
   "cell_type": "code",
   "execution_count": 32,
   "metadata": {
    "collapsed": false
   },
   "outputs": [
    {
     "name": "stdout",
     "output_type": "stream",
     "text": [
      "yes it is palndrome\n",
      "given string is not palindrome\n"
     ]
    }
   ],
   "source": [
    "# Question:4 Write a Python function that checks whether a passed string is palindrome or not. \n",
    "# Note: A palindrome is a word, phrase, or sequence that reads the same backward as forward, e.g., madam\n",
    "\n",
    "\n",
    "def palindrome_checker(string):\n",
    "    strings = list(string)\n",
    "    string_reverse = list(string)\n",
    "    string_reverse.reverse()\n",
    "    if strings == string_reverse:\n",
    "        print(\"yes it is palndrome\")\n",
    "    else:\n",
    "        print(\"given string is not palindrome\")\n",
    "        \n",
    "        \n",
    "string1= \"LOL\"\n",
    "palindrome_checker(string1)\n",
    "string2 = \"LOLS\"\n",
    "palindrome_checker(string2)"
   ]
  },
  {
   "cell_type": "code",
   "execution_count": 33,
   "metadata": {
    "collapsed": false
   },
   "outputs": [
    {
     "name": "stdout",
     "output_type": "stream",
     "text": [
      "Enter your number to check either its prime or not.88\n",
      "Not a prime number\n"
     ]
    }
   ],
   "source": [
    "# Question:5 Write a Python function that takes a number as a parameter and check the number is prime or not.\n",
    "User_input = int(input(\"Enter your number to check either its prime or not.\"))\n",
    "if User_input == 1:\n",
    "    print(\"prime number\")\n",
    "else:\n",
    "    for number in range(2,User_input+1,1):\n",
    "        if number != User_input:\n",
    "            if User_input % number == 0 :\n",
    "                print(\"Not a prime number\")\n",
    "                break\n",
    "        elif number == User_input:\n",
    "            print(\"prime number\")\n"
   ]
  },
  {
   "cell_type": "code",
   "execution_count": null,
   "metadata": {
    "collapsed": true
   },
   "outputs": [],
   "source": [
    "# Question: 6 Suppose a customer is shopping in a market and you need to print all the items which user bought from market. \n",
    "# Write a function which accepts the multiple arguments of user shopping list and print all the items which user bought from \n",
    "# market. (Hint: Arbitrary Argument concept can make this task ease)\n",
    "\n",
    "def shopping_Items_list(**itemz):\n",
    "    total = 0\n",
    "    for item_name,cost in itemz.items():\n",
    "        print(f\"\"\" {item_name} = {cost} \"\"\")\n",
    "        total += int(cost)\n",
    "    print(\"Total cost of your items is  \",total)\n",
    "    \n",
    "shopping_Items_list(rice=\"200\",Oil=\"500\",chicken=\"300\")"
   ]
  },
  {
   "cell_type": "markdown",
   "metadata": {},
   "source": [
    "# Assignment 6\n"
   ]
  },
  {
   "cell_type": "code",
   "execution_count": null,
   "metadata": {
    "collapsed": true
   },
   "outputs": [],
   "source": [
    "# Question 1:Define Object Oriented Programming Language?\n",
    "#     Answer\n",
    "# OOP is a programming language based on the concepts Objects.an object can store data to their respective class like his class \n",
    "# attribute, methods e.t.c"
   ]
  },
  {
   "cell_type": "code",
   "execution_count": null,
   "metadata": {
    "collapsed": true
   },
   "outputs": [],
   "source": [
    "# Question 2:List down the Benefits of OOP?\n",
    "#     Answer\n",
    "# we can re use the code by inhertance\n",
    "# with the help of reuseability we cancomplete our software fast\n",
    "# it can make your data secure by defining the scope of classes or making abstract methods"
   ]
  },
  {
   "cell_type": "code",
   "execution_count": 35,
   "metadata": {
    "collapsed": false
   },
   "outputs": [
    {
     "name": "stdout",
     "output_type": "stream",
     "text": [
      "5\n",
      "lights on !\n"
     ]
    },
    {
     "ename": "NameError",
     "evalue": "name 'lights_on' is not defined",
     "output_type": "error",
     "traceback": [
      "\u001b[1;31m---------------------------------------------------------------------------\u001b[0m",
      "\u001b[1;31mNameError\u001b[0m                                 Traceback (most recent call last)",
      "\u001b[1;32m<ipython-input-35-d805cd9f0325>\u001b[0m in \u001b[0;36m<module>\u001b[1;34m()\u001b[0m\n\u001b[0;32m     15\u001b[0m \u001b[1;31m# so if i only write \"lights_on()\" and call this function it throus an error becouse i am calling without any reference object\u001b[0m\u001b[1;33m\u001b[0m\u001b[1;33m\u001b[0m\u001b[0m\n\u001b[0;32m     16\u001b[0m \u001b[1;31m# in the line below i am calling it without any reference_object so it throuws an error\u001b[0m\u001b[1;33m\u001b[0m\u001b[1;33m\u001b[0m\u001b[0m\n\u001b[1;32m---> 17\u001b[1;33m \u001b[0mlights_on\u001b[0m\u001b[1;33m(\u001b[0m\u001b[1;33m)\u001b[0m\u001b[1;33m\u001b[0m\u001b[0m\n\u001b[0m",
      "\u001b[1;31mNameError\u001b[0m: name 'lights_on' is not defined"
     ]
    }
   ],
   "source": [
    "# Question 3:Differentiate between function and method?\n",
    "#     Answer\n",
    "# Function is defined out side of the class it can be a biltin or it can be define by us.\n",
    "def add(x,y):\n",
    "    return x+y\n",
    "print(add(2,3))\n",
    "# there are two function 1st is \"add(x,y)\" which is defined by me or USER_DEFINE while the second one is biultin which is print()\n",
    "# Method is define inside of the class and can call by creating the object of that perticular class which is the reference to that class\n",
    "class Car:\n",
    "    def lights_on(self):\n",
    "        print(\"lights on !\")\n",
    "\n",
    "Car1 = Car()\n",
    "Car1.lights_on()\n",
    "# so if i only write \"lights_on()\" and call this function it throus an error becouse i am calling without any reference object\n",
    "# in the line below i am calling it without any reference_object so it throuws an error\n",
    "lights_on()"
   ]
  },
  {
   "cell_type": "code",
   "execution_count": null,
   "metadata": {
    "collapsed": true
   },
   "outputs": [],
   "source": [
    "# Question 4:\n",
    "# Define the following terms:\n",
    "# 1. Class\n",
    "# 2. Object\n",
    "# 3. Attribute\n",
    "# 4. Behavior\n",
    "#     Answer\n",
    "# 1.CLASS : is a blueprint or a structure like thing, on which you can put any shape but the shape should by of same class\n",
    "# 2.Object : are the instance or the member of that class like a car class have an object carola or can be a Audi\n",
    "# 3.Attribute : are the properties which the object has like a toyota_car has  a name, color,plat_number e.t.c\n",
    "# 4.Behavioue : is the action which the object can perform like car can break,consume_fuel,hit,break_automatically,self_driven"
   ]
  },
  {
   "cell_type": "code",
   "execution_count": 36,
   "metadata": {
    "collapsed": false
   },
   "outputs": [
    {
     "ename": "SyntaxError",
     "evalue": "invalid syntax (<ipython-input-36-d23ee38ef6b1>, line 22)",
     "output_type": "error",
     "traceback": [
      "\u001b[1;36m  File \u001b[1;32m\"<ipython-input-36-d23ee38ef6b1>\"\u001b[1;36m, line \u001b[1;32m22\u001b[0m\n\u001b[1;33m    traffic Sign Recongnition = {self.traffic_Sign_Recongnition}\"\"\")\u001b[0m\n\u001b[1;37m                                                                    \n^\u001b[0m\n\u001b[1;31mSyntaxError\u001b[0m\u001b[1;31m:\u001b[0m invalid syntax\n"
     ]
    }
   ],
   "source": [
    "# Question 5:Write a code in python in which create a class named it Car which have 5 attributes\n",
    "# such like (model, color and name etc.) and 3 methods. And create 5 object instance from that class.\n",
    "class Car:\n",
    "    def __init__(self, model, color, name, plate_number, emergency_brake, traffic_Sign_Recongnition):\n",
    "        self.model = model\n",
    "        self.color = color\n",
    "        self.name = name\n",
    "        self.plate_number = plate_number\n",
    "        self.emergency_brake = emergency_brake\n",
    "        self.traffic_Sign_Recongnition = traffic_Sign_Recongnition\n",
    "        \n",
    "    def Switched_on(self):\n",
    "        print(\"Your \"+self.name+\" is switch ON Vroom Boommm \")\n",
    "    def Switched_off(self):\n",
    "        print(\"Your \"+self.name+\" is switch OFF \")\n",
    "    def about_car(self):\n",
    "        print(f\"\"\"Car name is {self.name} \n",
    "        model = {self.model}\n",
    "        color = {self.color}\n",
    "        plate number = {self.plate_number}\n",
    "        emergency Break ability = {self.emergency_brake}\n",
    "        traffic Sign Recongnition = {self.traffic_Sign_Recongnition}\"\"\")\n",
    "\n",
    "        \n",
    "Car1 = Car(\"2018\", \"Blaclk\", \"Corolla\", \"IU2010\", True, False) \n",
    "Car1.Switched_on()\n",
    "Car1.color = 'White'\n",
    "Car1.about_car()\n",
    "Car1.Switched_off()\n",
    "print(\"\")\n",
    "\n",
    "Car2 = Car(\"2011\", \"pearl White\", \"Mira\", \"IU2020\", False, False) \n",
    "Car2.Switched_on()\n",
    "Car2.plate_number = \"KHI-2020\"\n",
    "Car2.color = 'White'\n",
    "Car2.about_car()\n",
    "Car2.Switched_off()\n",
    "print(\"\")\n",
    "\n",
    "Car3 = Car(\"2016\", \"Golden\", \"Nissan Days\", \"IU2020\", True, False) \n",
    "Car3.Switched_on()\n",
    "print(Car3.color)\n",
    "Car3.color = 'Red'\n",
    "Car3.about_car()\n",
    "Car3.Switched_off()\n",
    "print(\"\")\n",
    "\n",
    "Car4 = Car(\"2016\", \"Golden\", \"Nissan Juke\", \"IU2020\", True, False) \n",
    "Car4.Switched_on()\n",
    "print(Car4.color)\n",
    "Car4.color = 'Red'\n",
    "Car4.about_car()\n",
    "Car4.Switched_off()\n",
    "print(\"\")\n",
    "\n",
    "Car5 = Car(\"2016\", \"Golden\", \"Br-v\", \"IU2000\", True, False) \n",
    "Car5.Switched_on()\n",
    "print(Car5.color)\n",
    "Car5.color = 'Red'\n",
    "Car5.about_car()\n",
    "Car3.Switched_off()\n"
   ]
  },
  {
   "cell_type": "code",
   "execution_count": null,
   "metadata": {
    "collapsed": true
   },
   "outputs": [],
   "source": []
  }
 ],
 "metadata": {
  "anaconda-cloud": {},
  "kernelspec": {
   "display_name": "Python [Root]",
   "language": "python",
   "name": "Python [Root]"
  },
  "language_info": {
   "codemirror_mode": {
    "name": "ipython",
    "version": 3
   },
   "file_extension": ".py",
   "mimetype": "text/x-python",
   "name": "python",
   "nbconvert_exporter": "python",
   "pygments_lexer": "ipython3",
   "version": "3.5.2"
  }
 },
 "nbformat": 4,
 "nbformat_minor": 0
}
